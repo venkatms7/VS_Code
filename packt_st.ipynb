{
 "cells": [
  {
   "cell_type": "code",
   "execution_count": 1,
   "metadata": {},
   "outputs": [],
   "source": [
    "import os\n",
    "os.chdir('E:\\\\')"
   ]
  },
  {
   "cell_type": "code",
   "execution_count": 134,
   "metadata": {},
   "outputs": [
    {
     "data": {
      "text/plain": [
       "'https://stackoverflow.com/questions'"
      ]
     },
     "execution_count": 134,
     "metadata": {},
     "output_type": "execute_result"
    }
   ],
   "source": [
    "import requests\n",
    "from requests_html import HTML\n",
    "import json\n",
    "import numpy as np\n",
    "import pandas as pd\n",
    "import time\n",
    "\n",
    "base_url = 'https://stackoverflow.com/questions'\n",
    "tag = 'python'\n",
    "query_filter = 'Votes'\n",
    "url = f\"{base_url}\"\n",
    "url"
   ]
  },
  {
   "cell_type": "code",
   "execution_count": 135,
   "metadata": {},
   "outputs": [],
   "source": [
    "r = requests.get(url)\n",
    "html_str = r.text"
   ]
  },
  {
   "cell_type": "code",
   "execution_count": 136,
   "metadata": {},
   "outputs": [],
   "source": [
    "html = HTML(html=html_str)"
   ]
  },
  {
   "cell_type": "code",
   "execution_count": 137,
   "metadata": {},
   "outputs": [
    {
     "name": "stdout",
     "output_type": "stream",
     "text": [
      "[<Element 'div' id='question-summary-76546165' class=('s-post-summary', 'js-post-summary') data-post-id='76546165' data-post-type-id='1'>, <Element 'div' id='question-summary-76546164' class=('s-post-summary', 'js-post-summary') data-post-id='76546164' data-post-type-id='1'>, <Element 'div' id='question-summary-76546162' class=('s-post-summary', 'js-post-summary') data-post-id='76546162' data-post-type-id='1'>, <Element 'div' id='question-summary-76546158' class=('s-post-summary', 'js-post-summary') data-post-id='76546158' data-post-type-id='1'>, <Element 'div' id='question-summary-76546156' class=('s-post-summary', 'js-post-summary') data-post-id='76546156' data-post-type-id='1'>, <Element 'div' id='question-summary-76546155' class=('s-post-summary', 'js-post-summary') data-post-id='76546155' data-post-type-id='1'>, <Element 'div' id='question-summary-76546154' class=('s-post-summary', 'js-post-summary') data-post-id='76546154' data-post-type-id='1'>, <Element 'div' id='question-summary-76546150' class=('s-post-summary', 'js-post-summary') data-post-id='76546150' data-post-type-id='1'>, <Element 'div' id='question-summary-76546149' class=('s-post-summary', 'js-post-summary') data-post-id='76546149' data-post-type-id='1'>, <Element 'div' id='question-summary-76546148' class=('s-post-summary', 'js-post-summary') data-post-id='76546148' data-post-type-id='1'>, <Element 'div' id='question-summary-76546146' class=('s-post-summary', 'js-post-summary') data-post-id='76546146' data-post-type-id='1'>, <Element 'div' id='question-summary-76546145' class=('s-post-summary', 'js-post-summary') data-post-id='76546145' data-post-type-id='1'>, <Element 'div' id='question-summary-76546144' class=('s-post-summary', 'js-post-summary') data-post-id='76546144' data-post-type-id='1'>, <Element 'div' id='question-summary-76546142' class=('s-post-summary', 'js-post-summary') data-post-id='76546142' data-post-type-id='1'>, <Element 'div' id='question-summary-76546141' class=('s-post-summary', 'js-post-summary') data-post-id='76546141' data-post-type-id='1'>, <Element 'div' id='question-summary-76546139' class=('s-post-summary', 'js-post-summary') data-post-id='76546139' data-post-type-id='1'>, <Element 'div' id='question-summary-76546138' class=('s-post-summary', 'js-post-summary') data-post-id='76546138' data-post-type-id='1'>, <Element 'div' id='question-summary-76546137' class=('s-post-summary', 'js-post-summary') data-post-id='76546137' data-post-type-id='1'>, <Element 'div' id='question-summary-76546136' class=('s-post-summary', 'js-post-summary') data-post-id='76546136' data-post-type-id='1'>, <Element 'div' id='question-summary-76546134' class=('s-post-summary', 'js-post-summary') data-post-id='76546134' data-post-type-id='1'>, <Element 'div' id='question-summary-76546133' class=('s-post-summary', 'js-post-summary') data-post-id='76546133' data-post-type-id='1'>, <Element 'div' id='question-summary-76546132' class=('s-post-summary', 'js-post-summary') data-post-id='76546132' data-post-type-id='1'>, <Element 'div' id='question-summary-76546130' class=('s-post-summary', 'js-post-summary') data-post-id='76546130' data-post-type-id='1'>, <Element 'div' id='question-summary-76546129' class=('s-post-summary', 'js-post-summary') data-post-id='76546129' data-post-type-id='1'>, <Element 'div' id='question-summary-76546126' class=('s-post-summary', 'js-post-summary') data-post-id='76546126' data-post-type-id='1'>, <Element 'div' id='question-summary-76546125' class=('s-post-summary', 'js-post-summary') data-post-id='76546125' data-post-type-id='1'>, <Element 'div' id='question-summary-76546124' class=('s-post-summary', 'js-post-summary') data-post-id='76546124' data-post-type-id='1'>, <Element 'div' id='question-summary-76546123' class=('s-post-summary', 'js-post-summary') data-post-id='76546123' data-post-type-id='1'>, <Element 'div' id='question-summary-76546122' class=('s-post-summary', 'js-post-summary') data-post-id='76546122' data-post-type-id='1'>, <Element 'div' id='question-summary-76546120' class=('s-post-summary', 'js-post-summary') data-post-id='76546120' data-post-type-id='1'>, <Element 'div' id='question-summary-76546119' class=('s-post-summary', 'js-post-summary') data-post-id='76546119' data-post-type-id='1'>, <Element 'div' id='question-summary-76546116' class=('s-post-summary', 'js-post-summary') data-post-id='76546116' data-post-type-id='1'>, <Element 'div' id='question-summary-76546114' class=('s-post-summary', 'js-post-summary') data-post-id='76546114' data-post-type-id='1'>, <Element 'div' id='question-summary-76546113' class=('s-post-summary', 'js-post-summary') data-post-id='76546113' data-post-type-id='1'>, <Element 'div' id='question-summary-76546110' class=('s-post-summary', 'js-post-summary') data-post-id='76546110' data-post-type-id='1'>, <Element 'div' id='question-summary-76546109' class=('s-post-summary', 'js-post-summary') data-post-id='76546109' data-post-type-id='1'>, <Element 'div' id='question-summary-76546106' class=('s-post-summary', 'js-post-summary') data-post-id='76546106' data-post-type-id='1'>, <Element 'div' id='question-summary-76546105' class=('s-post-summary', 'js-post-summary') data-post-id='76546105' data-post-type-id='1'>, <Element 'div' id='question-summary-76546104' class=('s-post-summary', 'js-post-summary') data-post-id='76546104' data-post-type-id='1'>, <Element 'div' id='question-summary-76546103' class=('s-post-summary', 'js-post-summary') data-post-id='76546103' data-post-type-id='1'>, <Element 'div' id='question-summary-76546100' class=('s-post-summary', 'js-post-summary') data-post-id='76546100' data-post-type-id='1'>, <Element 'div' id='question-summary-76546096' class=('s-post-summary', 'js-post-summary') data-post-id='76546096' data-post-type-id='1'>, <Element 'div' id='question-summary-76546095' class=('s-post-summary', 'js-post-summary') data-post-id='76546095' data-post-type-id='1'>, <Element 'div' id='question-summary-76546093' class=('s-post-summary', 'js-post-summary') data-post-id='76546093' data-post-type-id='1'>, <Element 'div' id='question-summary-76546091' class=('s-post-summary', 'js-post-summary') data-post-id='76546091' data-post-type-id='1'>, <Element 'div' id='question-summary-76546090' class=('s-post-summary', 'js-post-summary') data-post-id='76546090' data-post-type-id='1'>, <Element 'div' id='question-summary-76546089' class=('s-post-summary', 'js-post-summary') data-post-id='76546089' data-post-type-id='1'>, <Element 'div' id='question-summary-76546084' class=('s-post-summary', 'js-post-summary') data-post-id='76546084' data-post-type-id='1'>, <Element 'div' id='question-summary-76546082' class=('s-post-summary', 'js-post-summary') data-post-id='76546082' data-post-type-id='1'>, <Element 'div' id='question-summary-76546081' class=('s-post-summary', 'js-post-summary') data-post-id='76546081' data-post-type-id='1'>]\n"
     ]
    }
   ],
   "source": [
    "question_summaries = html.find(\".s-post-summary\") \n",
    "print(question_summaries)"
   ]
  },
  {
   "cell_type": "code",
   "execution_count": 138,
   "metadata": {},
   "outputs": [
    {
     "data": {
      "text/plain": [
       "\"0 votes\\n0 answers\\n2 views\\nWhich decision tree algorithm does scikit-learn use when the criterion is 'enropy'?\\nAs the title,which decision tree algorithm does scikit-learn use when the criterion is 'enropy'? In the doc,it writes CART,but in fact CART uses gini. It confused me a lot I compared gini and entropy ...\\nscikit-learn\\ndt\\ncwl142536\\n1\\nasked 1 min ago\""
      ]
     },
     "execution_count": 138,
     "metadata": {},
     "output_type": "execute_result"
    }
   ],
   "source": [
    "question_summaries[0].text"
   ]
  },
  {
   "cell_type": "code",
   "execution_count": 141,
   "metadata": {},
   "outputs": [
    {
     "data": {
      "text/plain": [
       "['0 votes',\n",
       " '0 answers',\n",
       " '4 views',\n",
       " 'How to convert first audio track only to all mkv with ffmpeg',\n",
       " 'I am currently using the following code in terminal: for i in ./*.mkv; do ffmpeg -i \"$i\" -map 0:v -map 0:a -map 0:s -c:v copy -c:a libopus -c:s copy -vbr 0 -b:a 256k \"${i%????}_muxed....',\n",
       " 'ffmpeg',\n",
       " 'terminal',\n",
       " 'encode',\n",
       " 'gorilla',\n",
       " 'Not your kind of people',\n",
       " '120',\n",
       " 'asked 6 mins ago']"
      ]
     },
     "execution_count": 141,
     "metadata": {},
     "output_type": "execute_result"
    }
   ],
   "source": [
    "this_row =list(question_summaries[10].text.split('\\n'))\n",
    "this_row"
   ]
  },
  {
   "cell_type": "code",
   "execution_count": null,
   "metadata": {},
   "outputs": [],
   "source": [
    "key_names = ['user', 'question','votes','tags','date']\n",
    "class_needed = ['.s-user-card--link','.s-link','.s-post-summary--stats-item-number','.s-post-summary--meta-tags','.relativetime']"
   ]
  },
  {
   "cell_type": "code",
   "execution_count": null,
   "metadata": {},
   "outputs": [],
   "source": [
    "def clean_data(text, keyname=None):\n",
    "    if keyname == 'tags':\n",
    "        return text.replace('\\n', ' & ')\n",
    "    return text"
   ]
  },
  {
   "cell_type": "code",
   "execution_count": null,
   "metadata": {},
   "outputs": [],
   "source": [
    "def parse_tagged_page(html):\n",
    "    question_summaries = html.find(\".s-post-summary\") \n",
    "    key_names = ['user', 'question','votes','date']\n",
    "    class_needed = ['.s-user-card--link','.s-link','.s-post-summary--stats-item-number','.relativetime']\n",
    "    data = []\n",
    "\n",
    "    for items in question_summaries:\n",
    "        q_data = {}\n",
    "        for i, elements in enumerate(class_needed):\n",
    "            sub_elements = items.find(elements, first = True)\n",
    "            keyname = key_names[i]\n",
    "            if sub_elements:\n",
    "                q_data[keyname]=clean_data(sub_elements.text, keyname=keyname)\n",
    "            else:\n",
    "                q_data[keyname]=clean_data(np.nan, keyname=keyname)\n",
    "        data.append(q_data)\n",
    "    return data"
   ]
  },
  {
   "cell_type": "code",
   "execution_count": null,
   "metadata": {},
   "outputs": [],
   "source": [
    "def extract_data_from_url(url):\n",
    "    r = requests.get(url)\n",
    "    if r.status_code not in range(200, 299):\n",
    "        return []\n",
    "    html_str = r.text\n",
    "    html = HTML(html=html_str)\n",
    "    data = parse_tagged_page(html)\n",
    "    return data"
   ]
  },
  {
   "cell_type": "code",
   "execution_count": null,
   "metadata": {},
   "outputs": [],
   "source": [
    "def scrape_tag(tag = \"python\", query_filter = \"Votes\", max_pages=100, pagesize=25):\n",
    "    base_url = 'https://stackoverflow.com/questions/tagged/'\n",
    "    data = []\n",
    "    for p in range(max_pages):\n",
    "        page_num = p + 1\n",
    "        url = f\"{base_url}{tag}?tab={query_filter}&page={page_num}&pagesize={pagesize}\"\n",
    "        data += extract_data_from_url(url)\n",
    "        time.sleep(1.3)\n",
    "    return data"
   ]
  },
  {
   "cell_type": "code",
   "execution_count": null,
   "metadata": {},
   "outputs": [],
   "source": [
    "data = scrape_tag(tag='python')"
   ]
  },
  {
   "cell_type": "code",
   "execution_count": null,
   "metadata": {},
   "outputs": [],
   "source": [
    "len(data)"
   ]
  },
  {
   "cell_type": "code",
   "execution_count": null,
   "metadata": {},
   "outputs": [],
   "source": [
    "df = pd.DataFrame(data)\n",
    "df.head()"
   ]
  },
  {
   "cell_type": "code",
   "execution_count": null,
   "metadata": {},
   "outputs": [],
   "source": [
    "df.shape"
   ]
  },
  {
   "cell_type": "code",
   "execution_count": null,
   "metadata": {},
   "outputs": [],
   "source": [
    "df.to_csv(\"stk_api_scrap.csv\", index=False)"
   ]
  }
 ],
 "metadata": {
  "kernelspec": {
   "display_name": "Python 3",
   "language": "python",
   "name": "python3"
  },
  "language_info": {
   "codemirror_mode": {
    "name": "ipython",
    "version": 3
   },
   "file_extension": ".py",
   "mimetype": "text/x-python",
   "name": "python",
   "nbconvert_exporter": "python",
   "pygments_lexer": "ipython3",
   "version": "3.9.5"
  },
  "orig_nbformat": 4,
  "vscode": {
   "interpreter": {
    "hash": "be414d1fa8145e7c012da26637ecdb49d2ffb73af9f6af0bb5ea0645924c5a09"
   }
  }
 },
 "nbformat": 4,
 "nbformat_minor": 2
}
